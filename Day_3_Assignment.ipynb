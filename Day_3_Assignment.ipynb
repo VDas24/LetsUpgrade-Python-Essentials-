{
  "nbformat": 4,
  "nbformat_minor": 0,
  "metadata": {
    "colab": {
      "name": "Day 3 Assignment.ipynb",
      "provenance": [],
      "collapsed_sections": []
    },
    "kernelspec": {
      "name": "python3",
      "display_name": "Python 3"
    }
  },
  "cells": [
    {
      "cell_type": "markdown",
      "metadata": {
        "id": "wsBBjur8JHJp",
        "colab_type": "text"
      },
      "source": [
        "**Assignment 1 Day 3**"
      ]
    },
    {
      "cell_type": "code",
      "metadata": {
        "id": "u3XFpeCJ0qTc",
        "colab_type": "code",
        "colab": {
          "base_uri": "https://localhost:8080/",
          "height": 50
        },
        "outputId": "4694f570-15ab-4709-9c41-56153570f423"
      },
      "source": [
        "a = int(input(\"Enter the Altitude : \"))\n",
        "\n",
        "if (a<=1000):\n",
        "  print(\"Safe to Land\")\n",
        "elif (a>1000 and a<=5000):\n",
        "  print(\"Brin down to 1000ft\")\n",
        "else:\n",
        "  print(\"Turn Around and Try Again\")"
      ],
      "execution_count": null,
      "outputs": [
        {
          "output_type": "stream",
          "text": [
            "Enter the Altitude : 6500\n",
            "Turn Around and Try Again\n"
          ],
          "name": "stdout"
        }
      ]
    },
    {
      "cell_type": "markdown",
      "metadata": {
        "id": "UsuabxK_OPYK",
        "colab_type": "text"
      },
      "source": [
        "**Assignment 2 Day 3**"
      ]
    },
    {
      "cell_type": "code",
      "metadata": {
        "id": "6UeVC_bJOTER",
        "colab_type": "code",
        "colab": {
          "base_uri": "https://localhost:8080/",
          "height": 790
        },
        "outputId": "a1fadf04-a9ce-4806-ca9d-4b1de3488487"
      },
      "source": [
        "for p in range(2,200):\n",
        "  for i in range(2,p):\n",
        "    if (p%i)==0:\n",
        "      break\n",
        "  else:\n",
        "    print(p)"
      ],
      "execution_count": 54,
      "outputs": [
        {
          "output_type": "stream",
          "text": [
            "2\n",
            "3\n",
            "5\n",
            "7\n",
            "11\n",
            "13\n",
            "17\n",
            "19\n",
            "23\n",
            "29\n",
            "31\n",
            "37\n",
            "41\n",
            "43\n",
            "47\n",
            "53\n",
            "59\n",
            "61\n",
            "67\n",
            "71\n",
            "73\n",
            "79\n",
            "83\n",
            "89\n",
            "97\n",
            "101\n",
            "103\n",
            "107\n",
            "109\n",
            "113\n",
            "127\n",
            "131\n",
            "137\n",
            "139\n",
            "149\n",
            "151\n",
            "157\n",
            "163\n",
            "167\n",
            "173\n",
            "179\n",
            "181\n",
            "191\n",
            "193\n",
            "197\n",
            "199\n"
          ],
          "name": "stdout"
        }
      ]
    }
  ]
}