{
  "nbformat": 4,
  "nbformat_minor": 0,
  "metadata": {
    "colab": {
      "name": "Day 3 Assignment 1.ipynb",
      "provenance": [],
      "collapsed_sections": []
    },
    "kernelspec": {
      "name": "python3",
      "display_name": "Python 3"
    }
  },
  "cells": [
    {
      "cell_type": "markdown",
      "metadata": {
        "id": "wsBBjur8JHJp",
        "colab_type": "text"
      },
      "source": [
        "**Assignment 1 Day 3**"
      ]
    },
    {
      "cell_type": "code",
      "metadata": {
        "id": "u3XFpeCJ0qTc",
        "colab_type": "code",
        "colab": {
          "base_uri": "https://localhost:8080/",
          "height": 50
        },
        "outputId": "4694f570-15ab-4709-9c41-56153570f423"
      },
      "source": [
        "a = int(input(\"Enter the Altitude : \"))\n",
        "\n",
        "if (a<=1000):\n",
        "  print(\"Safe to Land\")\n",
        "elif (a>1000 and a<=5000):\n",
        "  print(\"Brin down to 1000ft\")\n",
        "else:\n",
        "  print(\"Turn Around and Try Again\")"
      ],
      "execution_count": null,
      "outputs": [
        {
          "output_type": "stream",
          "text": [
            "Enter the Altitude : 6500\n",
            "Turn Around and Try Again\n"
          ],
          "name": "stdout"
        }
      ]
    }
  ]
}