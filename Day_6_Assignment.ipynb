{
  "nbformat": 4,
  "nbformat_minor": 0,
  "metadata": {
    "colab": {
      "name": "Day 6 Assignment.ipynb",
      "provenance": []
    },
    "kernelspec": {
      "name": "python3",
      "display_name": "Python 3"
    }
  },
  "cells": [
    {
      "cell_type": "markdown",
      "metadata": {
        "id": "fO0sLTAUmakh",
        "colab_type": "text"
      },
      "source": [
        "**Assignment 1 Day 6**"
      ]
    },
    {
      "cell_type": "code",
      "metadata": {
        "id": "qfPVivV6Xvrx",
        "colab_type": "code",
        "colab": {}
      },
      "source": [
        "class bank():\n",
        "  def __init__(self,ownerName,balance):\n",
        "    self.ownername = ownerName\n",
        "    self.balance = balance\n",
        "  \n",
        "  def deposite(self,amount):\n",
        "    self.balance += amount\n",
        "    print(\"Your Updated Balance is : \", self.balance)\n",
        "  \n",
        "  def withdraw(self,amount):\n",
        "    if (self.balance>amount):\n",
        "      self.balance -= amount\n",
        "      print(\"Your Updated Balance is : \", self.balance)\n",
        "    else:\n",
        "      print(\"You don't have enough Balance in you Accounr, Your Available Amount is : \", self.balance)"
      ],
      "execution_count": 44,
      "outputs": []
    },
    {
      "cell_type": "code",
      "metadata": {
        "id": "xGGYFHj_mkwO",
        "colab_type": "code",
        "colab": {}
      },
      "source": [
        "vishal = bank(\"Vishal\",50000)"
      ],
      "execution_count": 45,
      "outputs": []
    },
    {
      "cell_type": "code",
      "metadata": {
        "id": "lNYJBMSfpRs6",
        "colab_type": "code",
        "colab": {
          "base_uri": "https://localhost:8080/",
          "height": 34
        },
        "outputId": "03ca5e47-392e-48b4-9624-cad914d9d2f7"
      },
      "source": [
        "vishal.deposite(20000)"
      ],
      "execution_count": 46,
      "outputs": [
        {
          "output_type": "stream",
          "text": [
            "Your Updated Balance is :  70000\n"
          ],
          "name": "stdout"
        }
      ]
    },
    {
      "cell_type": "code",
      "metadata": {
        "id": "6MxdqqcEpg6X",
        "colab_type": "code",
        "colab": {
          "base_uri": "https://localhost:8080/",
          "height": 34
        },
        "outputId": "9cac9d0f-0cf8-4f47-dcb4-c959e2e5a21c"
      },
      "source": [
        "vishal.withdraw(45000)"
      ],
      "execution_count": 47,
      "outputs": [
        {
          "output_type": "stream",
          "text": [
            "Your Updated Balance is :  25000\n"
          ],
          "name": "stdout"
        }
      ]
    },
    {
      "cell_type": "code",
      "metadata": {
        "id": "D-e9-EP7ppyU",
        "colab_type": "code",
        "colab": {
          "base_uri": "https://localhost:8080/",
          "height": 34
        },
        "outputId": "34e344e4-8a94-4506-d28e-b385bd21251e"
      },
      "source": [
        "vishal.withdraw(30000)"
      ],
      "execution_count": 48,
      "outputs": [
        {
          "output_type": "stream",
          "text": [
            "You don't have enough Balance in you Accounr, Your Available Amount is :  25000\n"
          ],
          "name": "stdout"
        }
      ]
    },
    {
      "cell_type": "code",
      "metadata": {
        "id": "8bdKaTe3puLn",
        "colab_type": "code",
        "colab": {}
      },
      "source": [
        "viki = bank(\"Viki\",45000)"
      ],
      "execution_count": 49,
      "outputs": []
    },
    {
      "cell_type": "code",
      "metadata": {
        "id": "0MYIHYZ_qDLX",
        "colab_type": "code",
        "colab": {
          "base_uri": "https://localhost:8080/",
          "height": 34
        },
        "outputId": "dbbf61fb-0afa-4fcb-b08f-61e9cb96051a"
      },
      "source": [
        "viki.withdraw(40000)"
      ],
      "execution_count": 50,
      "outputs": [
        {
          "output_type": "stream",
          "text": [
            "Your Updated Balance is :  5000\n"
          ],
          "name": "stdout"
        }
      ]
    },
    {
      "cell_type": "code",
      "metadata": {
        "id": "NH7lAn2CqIS6",
        "colab_type": "code",
        "colab": {
          "base_uri": "https://localhost:8080/",
          "height": 34
        },
        "outputId": "e4fd5a25-0469-49df-c5fb-c9cfe12dfe85"
      },
      "source": [
        "viki.deposite(30000)"
      ],
      "execution_count": 51,
      "outputs": [
        {
          "output_type": "stream",
          "text": [
            "Your Updated Balance is :  35000\n"
          ],
          "name": "stdout"
        }
      ]
    },
    {
      "cell_type": "code",
      "metadata": {
        "id": "pL2N4O_tqLoA",
        "colab_type": "code",
        "colab": {
          "base_uri": "https://localhost:8080/",
          "height": 34
        },
        "outputId": "0a37e5e3-0435-4d60-deca-06ea4bdef69f"
      },
      "source": [
        "viki.withdraw(40000)"
      ],
      "execution_count": 52,
      "outputs": [
        {
          "output_type": "stream",
          "text": [
            "You don't have enough Balance in you Accounr, Your Available Amount is :  35000\n"
          ],
          "name": "stdout"
        }
      ]
    },
    {
      "cell_type": "markdown",
      "metadata": {
        "id": "kSb6UU0iqQ3n",
        "colab_type": "text"
      },
      "source": [
        "**Assignment 2 Day 6**"
      ]
    },
    {
      "cell_type": "code",
      "metadata": {
        "id": "xGjLBhxztdyR",
        "colab_type": "code",
        "colab": {}
      },
      "source": [
        "import math"
      ],
      "execution_count": 53,
      "outputs": []
    },
    {
      "cell_type": "code",
      "metadata": {
        "id": "NLrK2mzxqPfr",
        "colab_type": "code",
        "colab": {}
      },
      "source": [
        "class cone():\n",
        "  def __init__ (self,radius,height):\n",
        "    self.radius = radius\n",
        "    self.height = height\n",
        "\n",
        "  def volume(self):\n",
        "    vol = math.pi * self.radius**2 * (self.height/3)\n",
        "    print(\"Volume of Cone is : \", vol)\n",
        "  \n",
        "  def surfacearea(self):\n",
        "    sabase = math.pi * self.radius**2\n",
        "    saside = math.pi * self.radius * math.sqrt(self.radius**2 + self.height**2)\n",
        "    print(\"Surface Area of Base of Cone is : \", sabase)\n",
        "    print(\"Surface Area of Side of Cone is : \", saside)"
      ],
      "execution_count": 54,
      "outputs": []
    },
    {
      "cell_type": "code",
      "metadata": {
        "id": "VNkkYzCaulMY",
        "colab_type": "code",
        "colab": {}
      },
      "source": [
        "con = cone(2,4)"
      ],
      "execution_count": 55,
      "outputs": []
    },
    {
      "cell_type": "code",
      "metadata": {
        "id": "pUDXYcX4ulfG",
        "colab_type": "code",
        "colab": {
          "base_uri": "https://localhost:8080/",
          "height": 34
        },
        "outputId": "c40c4d1b-5071-4fba-8266-dad5c6ee9cc6"
      },
      "source": [
        "con.volume()"
      ],
      "execution_count": 56,
      "outputs": [
        {
          "output_type": "stream",
          "text": [
            "Volume of Cone is :  16.755160819145562\n"
          ],
          "name": "stdout"
        }
      ]
    },
    {
      "cell_type": "code",
      "metadata": {
        "id": "UoUq4oBmuliG",
        "colab_type": "code",
        "colab": {
          "base_uri": "https://localhost:8080/",
          "height": 50
        },
        "outputId": "97bc5662-51e6-46ee-c4a2-b78ea75c775c"
      },
      "source": [
        "con.surfacearea()"
      ],
      "execution_count": 57,
      "outputs": [
        {
          "output_type": "stream",
          "text": [
            "Surface Area of Base of Cone is :  12.566370614359172\n",
            "Surface Area of Side of Cone is :  28.099258924162907\n"
          ],
          "name": "stdout"
        }
      ]
    },
    {
      "cell_type": "code",
      "metadata": {
        "id": "Etc7tS7GvEHj",
        "colab_type": "code",
        "colab": {}
      },
      "source": [
        ""
      ],
      "execution_count": 57,
      "outputs": []
    }
  ]
}