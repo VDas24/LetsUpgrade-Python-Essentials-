{
  "nbformat": 4,
  "nbformat_minor": 0,
  "metadata": {
    "colab": {
      "name": "Day 8 Assignment.ipynb",
      "provenance": []
    },
    "kernelspec": {
      "name": "python3",
      "display_name": "Python 3"
    }
  },
  "cells": [
    {
      "cell_type": "markdown",
      "metadata": {
        "id": "eqyXHgB7x5c4",
        "colab_type": "text"
      },
      "source": [
        "**Question 1 Day 8**"
      ]
    },
    {
      "cell_type": "code",
      "metadata": {
        "id": "fsg3ADp6xtEP",
        "colab_type": "code",
        "colab": {}
      },
      "source": [
        "def getinput(calculate_arg_func):\n",
        "  def wrap_func():\n",
        "    print(\"Hey people enter 2 numbers = \")\n",
        "    a = int(input(\"Enter your first num in series - \"))\n",
        "    b = int(input(\"Enter your number of output - \"))\n",
        "    \n",
        "    calculate_arg_func(a,b)\n",
        "  return wrap_func"
      ],
      "execution_count": 62,
      "outputs": []
    },
    {
      "cell_type": "code",
      "metadata": {
        "id": "IRw6zzJz0dei",
        "colab_type": "code",
        "colab": {}
      },
      "source": [
        "@getinput\n",
        "def fibo(a,b):\n",
        "  c=0\n",
        "  i=0\n",
        "  t=a\n",
        "  while c<b:\n",
        "    a=i+t\n",
        "    i=t\n",
        "    t=a\n",
        "    print(a)\n",
        "    c=c+1"
      ],
      "execution_count": 63,
      "outputs": []
    },
    {
      "cell_type": "code",
      "metadata": {
        "id": "gO-f7pjL9juq",
        "colab_type": "code",
        "colab": {
          "base_uri": "https://localhost:8080/",
          "height": 235
        },
        "outputId": "8c1a4f7b-1ffc-474e-d13b-9959a091a74f"
      },
      "source": [
        "fibo()"
      ],
      "execution_count": 65,
      "outputs": [
        {
          "output_type": "stream",
          "text": [
            "Hey people enter 2 numbers = \n",
            "Enter your first num in series - 1\n",
            "Enter your number of output - 10\n",
            "1\n",
            "2\n",
            "3\n",
            "5\n",
            "8\n",
            "13\n",
            "21\n",
            "34\n",
            "55\n",
            "89\n"
          ],
          "name": "stdout"
        }
      ]
    },
    {
      "cell_type": "markdown",
      "metadata": {
        "id": "lj_C1aVmC4P6",
        "colab_type": "text"
      },
      "source": [
        "**Question 2 Day 8**"
      ]
    },
    {
      "cell_type": "code",
      "metadata": {
        "id": "wBaaeoNJCw_O",
        "colab_type": "code",
        "colab": {
          "base_uri": "https://localhost:8080/",
          "height": 34
        },
        "outputId": "90f0f3eb-40ea-4d55-9d85-af7a3a294f6b"
      },
      "source": [
        "%%writefile test.txt\n",
        "\n",
        "Hi How are you all"
      ],
      "execution_count": 70,
      "outputs": [
        {
          "output_type": "stream",
          "text": [
            "Overwriting test.txt\n"
          ],
          "name": "stdout"
        }
      ]
    },
    {
      "cell_type": "code",
      "metadata": {
        "id": "PeuJkp1nErNT",
        "colab_type": "code",
        "colab": {
          "base_uri": "https://localhost:8080/",
          "height": 35
        },
        "outputId": "d51d989c-2f4b-4bea-f976-411294690254"
      },
      "source": [
        "f = open(\"test.txt\",'r')\n",
        "f.read()"
      ],
      "execution_count": 71,
      "outputs": [
        {
          "output_type": "execute_result",
          "data": {
            "application/vnd.google.colaboratory.intrinsic+json": {
              "type": "string"
            },
            "text/plain": [
              "'\\nHi How are you all'"
            ]
          },
          "metadata": {
            "tags": []
          },
          "execution_count": 71
        }
      ]
    },
    {
      "cell_type": "code",
      "metadata": {
        "id": "qsAkdrdQEu3G",
        "colab_type": "code",
        "colab": {
          "base_uri": "https://localhost:8080/",
          "height": 34
        },
        "outputId": "8b3d6f44-f1ed-4e3c-a829-29edc7c161bc"
      },
      "source": [
        "try:\n",
        "  f.write(\"my first file\\n\")\n",
        "except:\n",
        "  print(\"unable to write to file due to the read mode of file\")"
      ],
      "execution_count": 72,
      "outputs": [
        {
          "output_type": "stream",
          "text": [
            "unable to write to file due to the read mode of file\n"
          ],
          "name": "stdout"
        }
      ]
    },
    {
      "cell_type": "code",
      "metadata": {
        "id": "JdXzdySqEzv-",
        "colab_type": "code",
        "colab": {}
      },
      "source": [
        ""
      ],
      "execution_count": null,
      "outputs": []
    }
  ]
}