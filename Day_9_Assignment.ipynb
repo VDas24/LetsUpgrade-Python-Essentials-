{
  "nbformat": 4,
  "nbformat_minor": 0,
  "metadata": {
    "colab": {
      "name": "Day 9 Assignment.ipynb",
      "provenance": []
    },
    "kernelspec": {
      "name": "python3",
      "display_name": "Python 3"
    }
  },
  "cells": [
    {
      "cell_type": "markdown",
      "metadata": {
        "id": "pzjTkvqSG2fc",
        "colab_type": "text"
      },
      "source": [
        "**Question 1 Day 9**"
      ]
    },
    {
      "cell_type": "code",
      "metadata": {
        "id": "75oxLmXSJvET",
        "colab_type": "code",
        "colab": {
          "base_uri": "https://localhost:8080/",
          "height": 406
        },
        "outputId": "c8bac883-53f1-4821-e62f-e1f0f6b9b696"
      },
      "source": [
        "! pip install pylint"
      ],
      "execution_count": 7,
      "outputs": [
        {
          "output_type": "stream",
          "text": [
            "Collecting pylint\n",
            "\u001b[?25l  Downloading https://files.pythonhosted.org/packages/fb/13/519c1264a134beab2be4bac8dd3e64948980a5ca7833b31cf0255b21f20a/pylint-2.6.0-py3-none-any.whl (325kB)\n",
            "\r\u001b[K     |█                               | 10kB 15.1MB/s eta 0:00:01\r\u001b[K     |██                              | 20kB 1.8MB/s eta 0:00:01\r\u001b[K     |███                             | 30kB 2.4MB/s eta 0:00:01\r\u001b[K     |████                            | 40kB 2.7MB/s eta 0:00:01\r\u001b[K     |█████                           | 51kB 2.1MB/s eta 0:00:01\r\u001b[K     |██████                          | 61kB 2.4MB/s eta 0:00:01\r\u001b[K     |███████                         | 71kB 2.6MB/s eta 0:00:01\r\u001b[K     |████████                        | 81kB 2.8MB/s eta 0:00:01\r\u001b[K     |█████████                       | 92kB 3.0MB/s eta 0:00:01\r\u001b[K     |██████████                      | 102kB 3.0MB/s eta 0:00:01\r\u001b[K     |███████████                     | 112kB 3.0MB/s eta 0:00:01\r\u001b[K     |████████████                    | 122kB 3.0MB/s eta 0:00:01\r\u001b[K     |█████████████                   | 133kB 3.0MB/s eta 0:00:01\r\u001b[K     |██████████████                  | 143kB 3.0MB/s eta 0:00:01\r\u001b[K     |███████████████                 | 153kB 3.0MB/s eta 0:00:01\r\u001b[K     |████████████████                | 163kB 3.0MB/s eta 0:00:01\r\u001b[K     |█████████████████               | 174kB 3.0MB/s eta 0:00:01\r\u001b[K     |██████████████████              | 184kB 3.0MB/s eta 0:00:01\r\u001b[K     |███████████████████▏            | 194kB 3.0MB/s eta 0:00:01\r\u001b[K     |████████████████████▏           | 204kB 3.0MB/s eta 0:00:01\r\u001b[K     |█████████████████████▏          | 215kB 3.0MB/s eta 0:00:01\r\u001b[K     |██████████████████████▏         | 225kB 3.0MB/s eta 0:00:01\r\u001b[K     |███████████████████████▏        | 235kB 3.0MB/s eta 0:00:01\r\u001b[K     |████████████████████████▏       | 245kB 3.0MB/s eta 0:00:01\r\u001b[K     |█████████████████████████▏      | 256kB 3.0MB/s eta 0:00:01\r\u001b[K     |██████████████████████████▏     | 266kB 3.0MB/s eta 0:00:01\r\u001b[K     |███████████████████████████▏    | 276kB 3.0MB/s eta 0:00:01\r\u001b[K     |████████████████████████████▏   | 286kB 3.0MB/s eta 0:00:01\r\u001b[K     |█████████████████████████████▏  | 296kB 3.0MB/s eta 0:00:01\r\u001b[K     |██████████████████████████████▏ | 307kB 3.0MB/s eta 0:00:01\r\u001b[K     |███████████████████████████████▏| 317kB 3.0MB/s eta 0:00:01\r\u001b[K     |████████████████████████████████| 327kB 3.0MB/s \n",
            "\u001b[?25hRequirement already satisfied: toml>=0.7.1 in /usr/local/lib/python3.6/dist-packages (from pylint) (0.10.1)\n",
            "Collecting astroid<=2.5,>=2.4.0\n",
            "\u001b[?25l  Downloading https://files.pythonhosted.org/packages/24/a8/5133f51967fb21e46ee50831c3f5dda49e976b7f915408d670b1603d41d6/astroid-2.4.2-py3-none-any.whl (213kB)\n",
            "\u001b[K     |████████████████████████████████| 215kB 8.3MB/s \n",
            "\u001b[?25hCollecting isort<6,>=4.2.5\n",
            "\u001b[?25l  Downloading https://files.pythonhosted.org/packages/d1/25/7ed95ccb07d3ce52598f5a57d002da6a18074ea8749991b10936cc20e539/isort-5.5.2-py3-none-any.whl (95kB)\n",
            "\u001b[K     |████████████████████████████████| 102kB 6.7MB/s \n",
            "\u001b[?25hCollecting mccabe<0.7,>=0.6\n",
            "  Downloading https://files.pythonhosted.org/packages/87/89/479dc97e18549e21354893e4ee4ef36db1d237534982482c3681ee6e7b57/mccabe-0.6.1-py2.py3-none-any.whl\n",
            "Requirement already satisfied: wrapt~=1.11 in /usr/local/lib/python3.6/dist-packages (from astroid<=2.5,>=2.4.0->pylint) (1.12.1)\n",
            "Collecting lazy-object-proxy==1.4.*\n",
            "\u001b[?25l  Downloading https://files.pythonhosted.org/packages/0b/dd/b1e3407e9e6913cf178e506cd0dee818e58694d9a5cd1984e3f6a8b9a10f/lazy_object_proxy-1.4.3-cp36-cp36m-manylinux1_x86_64.whl (55kB)\n",
            "\u001b[K     |████████████████████████████████| 61kB 5.9MB/s \n",
            "\u001b[?25hRequirement already satisfied: six~=1.12 in /usr/local/lib/python3.6/dist-packages (from astroid<=2.5,>=2.4.0->pylint) (1.15.0)\n",
            "Collecting typed-ast<1.5,>=1.4.0; implementation_name == \"cpython\" and python_version < \"3.8\"\n",
            "\u001b[?25l  Downloading https://files.pythonhosted.org/packages/90/ed/5459080d95eb87a02fe860d447197be63b6e2b5e9ff73c2b0a85622994f4/typed_ast-1.4.1-cp36-cp36m-manylinux1_x86_64.whl (737kB)\n",
            "\u001b[K     |████████████████████████████████| 747kB 13.8MB/s \n",
            "\u001b[?25hInstalling collected packages: lazy-object-proxy, typed-ast, astroid, isort, mccabe, pylint\n",
            "Successfully installed astroid-2.4.2 isort-5.5.2 lazy-object-proxy-1.4.3 mccabe-0.6.1 pylint-2.6.0 typed-ast-1.4.1\n"
          ],
          "name": "stdout"
        }
      ]
    },
    {
      "cell_type": "code",
      "metadata": {
        "id": "LGKC9YKzFqFO",
        "colab_type": "code",
        "colab": {
          "base_uri": "https://localhost:8080/",
          "height": 34
        },
        "outputId": "3ee0895f-2b39-44d5-db1e-ebc2c0fe26bd"
      },
      "source": [
        "%%writefile check_prime.py\n",
        "'''\n",
        "This Function is used to check if number is Prime Number or not\n",
        "'''\n",
        "import unittest\n",
        "\n",
        "def prime( num ) :\n",
        "    '''\n",
        "    This is a Simple Prime checking Function\n",
        "    '''\n",
        "    if num > 1:\n",
        "        for i in range(2, num):\n",
        "            if (num % i) == 0:\n",
        "                break\n",
        "    return print(\"It is a Prime Number\")\n",
        "n = int(input(\"Enter the number\"))\n",
        "prime(n)\n",
        "\n",
        "\n",
        "if __name__ == \"__main__\":\n",
        "    unittest.main()\n",
        "\n"
      ],
      "execution_count": 62,
      "outputs": [
        {
          "output_type": "stream",
          "text": [
            "Overwriting check_prime.py\n"
          ],
          "name": "stdout"
        }
      ]
    },
    {
      "cell_type": "code",
      "metadata": {
        "id": "m9hzWzs5HvJf",
        "colab_type": "code",
        "colab": {
          "base_uri": "https://localhost:8080/",
          "height": 84
        },
        "outputId": "34b2ca76-ce21-4bd3-8380-010961d9b1d0"
      },
      "source": [
        "! pylint \"check_prime.py\""
      ],
      "execution_count": 63,
      "outputs": [
        {
          "output_type": "stream",
          "text": [
            "\n",
            "-------------------------------------------------------------------\n",
            "Your code has been rated at 10.00/10 (previous run: 9.09/10, +0.91)\n",
            "\n"
          ],
          "name": "stdout"
        }
      ]
    },
    {
      "cell_type": "markdown",
      "metadata": {
        "id": "AZ-i4j3gLe3s",
        "colab_type": "text"
      },
      "source": [
        "**Question 2 Day 9**"
      ]
    },
    {
      "cell_type": "code",
      "metadata": {
        "id": "uZmteMUiJZTf",
        "colab_type": "code",
        "colab": {}
      },
      "source": [
        "def armstrong(num):\n",
        "  for x in range(1,num):\n",
        "    if x>10:\n",
        "      order = len(str(x))\n",
        "      sum = 0\n",
        "\n",
        "      temp = x\n",
        "      while temp > 0:\n",
        "        digit = temp % 10\n",
        "        sum += digit ** order\n",
        "        temp //= 10\n",
        "\n",
        "      if x == sum:\n",
        "        yield print(x)"
      ],
      "execution_count": 79,
      "outputs": []
    },
    {
      "cell_type": "code",
      "metadata": {
        "id": "-YoByXS6Nsyi",
        "colab_type": "code",
        "colab": {
          "base_uri": "https://localhost:8080/",
          "height": 84
        },
        "outputId": "1fab2b60-7e39-4812-c848-73c8408e24ba"
      },
      "source": [
        "lst = list(armstrong(1000))"
      ],
      "execution_count": 80,
      "outputs": [
        {
          "output_type": "stream",
          "text": [
            "153\n",
            "370\n",
            "371\n",
            "407\n"
          ],
          "name": "stdout"
        }
      ]
    },
    {
      "cell_type": "code",
      "metadata": {
        "id": "of_PeZQyQDb_",
        "colab_type": "code",
        "colab": {}
      },
      "source": [
        ""
      ],
      "execution_count": null,
      "outputs": []
    }
  ]
}